{
 "cells": [
  {
   "cell_type": "code",
   "execution_count": 1,
   "metadata": {},
   "outputs": [],
   "source": [
    "import torch\n",
    "from torch import nn, optim\n",
    "import torch.nn.functional as F"
   ]
  },
  {
   "cell_type": "code",
   "execution_count": 2,
   "metadata": {},
   "outputs": [],
   "source": [
    "# copied and modified from https://gist.github.com/yzh119/fd2146d2aeb329d067568a493b20172f\n",
    "\n",
    "def sample_gumbel(shape, eps=1e-20):\n",
    "    U = torch.rand(shape)\n",
    "    return -torch.log(-torch.log(U + eps) + eps)\n",
    "\n",
    "def gumbel_softmax_sample(logits, temperature):\n",
    "    y = logits + sample_gumbel(logits.size())\n",
    "    return F.softmax(y / temperature, dim=-1)\n",
    "\n",
    "def gumbel_softmax(logits, temperature):\n",
    "    \"\"\"\n",
    "    input: [*, n_class]\n",
    "    return: [*, n_class] an one-hot vector\n",
    "    \"\"\"\n",
    "    y = gumbel_softmax_sample(logits, temperature)\n",
    "    shape = y.size()\n",
    "    _, ind = y.max(dim=-1)\n",
    "    y_hard = torch.zeros_like(y).view(-1, shape[-1])\n",
    "    y_hard.scatter_(1, ind.view(-1, 1), 1)\n",
    "    y_hard = y_hard.view(*shape)\n",
    "    return (y_hard - y).detach() + y"
   ]
  },
  {
   "cell_type": "code",
   "execution_count": 10,
   "metadata": {},
   "outputs": [],
   "source": [
    "class PMVAE(nn.Module):\n",
    "    def __init__(self, n_approx=5, g_temp=0.1):\n",
    "        super(self.__class__, self).__init__()\n",
    "        \n",
    "        self.n_approx = n_approx\n",
    "        self.g_temp = g_temp\n",
    "        \n",
    "        self.fce = nn.Sequential(\n",
    "            nn.Linear(784, 400),\n",
    "            nn.ELU(),\n",
    "        )\n",
    "        \n",
    "        self.mu       = nn.Linear(400, 20 * n_approx)\n",
    "        self.logvar   = nn.Linear(400, 20 * n_approx)\n",
    "        self.decision = nn.Linear(400, 20 * n_approx)\n",
    "        \n",
    "        self.recons = nn.Sequential(\n",
    "            nn.Linear(20)\n",
    "        )\n",
    "        \n",
    "    def encode(self, x):\n",
    "        h = self.fce(x)\n",
    "        \n",
    "        d = gumbel_softmax(\n",
    "            self.decision(h).reshape(-1, self.n_approx),\n",
    "            temperature = self.g_temp,\n",
    "        )\n",
    "        \n",
    "        mu, logvar = self.mu(h).reshape(-1, 20, self.n_approx) * d,\\\n",
    "               self.logvar(h).reshape(-1, 20, self.n_approx) * d,\n",
    "        \n",
    "        return mu.sum(2), logvar.sum(2)\n",
    "        \n",
    "    def reparametrize(self, mu, logvar):\n",
    "        batch_size, z_size, = mu.shape\n",
    "        eps = torch.randn(batch_size, z_size)\n",
    "        \n",
    "        return mu + torch.exp(logvar / 2) * eps\n",
    "    \n",
    "    def decode(self, z):\n",
    "        pass"
   ]
  },
  {
   "cell_type": "code",
   "execution_count": 11,
   "metadata": {},
   "outputs": [],
   "source": [
    "def loss(decision, mu_nnet, mu_true):\n",
    "    pass"
   ]
  },
  {
   "cell_type": "code",
   "execution_count": 5,
   "metadata": {},
   "outputs": [],
   "source": [
    "vae = PMVAE()"
   ]
  },
  {
   "cell_type": "code",
   "execution_count": 6,
   "metadata": {},
   "outputs": [],
   "source": [
    "mu, logvar = vae.encode(torch.randn(1, 784))"
   ]
  },
  {
   "cell_type": "code",
   "execution_count": 7,
   "metadata": {},
   "outputs": [
    {
     "data": {
      "text/plain": [
       "torch.Size([1, 20])"
      ]
     },
     "execution_count": 7,
     "metadata": {},
     "output_type": "execute_result"
    }
   ],
   "source": [
    "mu.shape"
   ]
  }
 ],
 "metadata": {
  "kernelspec": {
   "display_name": "Python 3",
   "language": "python",
   "name": "python3"
  },
  "language_info": {
   "codemirror_mode": {
    "name": "ipython",
    "version": 3
   },
   "file_extension": ".py",
   "mimetype": "text/x-python",
   "name": "python",
   "nbconvert_exporter": "python",
   "pygments_lexer": "ipython3",
   "version": "3.7.2"
  }
 },
 "nbformat": 4,
 "nbformat_minor": 2
}
