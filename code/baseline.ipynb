{
 "cells": [
  {
   "cell_type": "code",
   "execution_count": 1,
   "metadata": {},
   "outputs": [],
   "source": [
    "import torch\n",
    "from torch import optim\n",
    "\n",
    "from models import PMVAE\n"
   ]
  },
  {
   "cell_type": "markdown",
   "metadata": {},
   "source": [
    "### define model"
   ]
  },
  {
   "cell_type": "code",
   "execution_count": 2,
   "metadata": {},
   "outputs": [],
   "source": [
    "model = PMVAE(1)\n",
    "optimizer = optim.Adam(model.parameters())"
   ]
  },
  {
   "cell_type": "markdown",
   "metadata": {},
   "source": [
    "### data and loss functions"
   ]
  },
  {
   "cell_type": "code",
   "execution_count": 3,
   "metadata": {},
   "outputs": [],
   "source": [
    "from torchvision import datasets, transforms\n",
    "\n",
    "train_loader = torch.utils.data.DataLoader(\n",
    "        datasets.MNIST('./data', train=True, download=True,\n",
    "                       transform=transforms.Compose([\n",
    "                           transforms.ToTensor(),\n",
    "                           transforms.Lambda(lambda x: x.reshape(784)),\n",
    "                       ])),\n",
    "        batch_size=32, shuffle=True)\n",
    "\n",
    "def kl_div(mu, logsig, m, logs):\n",
    "    return 0.5 * torch.sum((logs - logsig - 1 + (logsig.exp() + (mu - m).pow(2))/logs.exp()))\n",
    "\n",
    "d_mus = torch.zeros(20, 1) + 10\n",
    "d_sigmas = torch.log(torch.ones(20, 1))\n",
    "\n",
    "def loss_function(recon_x, x, mu, logvar, dec):\n",
    "    batch_size, _ = mu.shape\n",
    "    \n",
    "    true_mu = (d_mus[None].expand(batch_size, -1, -1) * dec).sum(2)\n",
    "    true_logvar = (d_sigmas[None].expand(batch_size, -1, -1) * dec).sum(2)\n",
    "    \n",
    "    bce = F.binary_cross_entropy(recon_x, x.view(-1, 784), reduction=\"sum\")\n",
    "    kld = kl_div(mu, logvar, true_mu, true_logvar)\n",
    "    \n",
    "    return bce + kld"
   ]
  },
  {
   "cell_type": "code",
   "execution_count": 4,
   "metadata": {},
   "outputs": [],
   "source": [
    "from torch.nn import functional as F\n",
    "\n",
    "def train(model, train_loader, optimizer, epoch):\n",
    "    model.train()\n",
    "    \n",
    "    for batch_idx, (x, _) in enumerate(train_loader):\n",
    "        optimizer.zero_grad()\n",
    "        \n",
    "        recon_x, mu, logvar, dec = model(x)\n",
    "        \n",
    "        loss = loss_function(recon_x, x, mu, logvar, dec)\n",
    "        loss.backward()\n",
    "        \n",
    "        optimizer.step()\n",
    "        \n",
    "        if batch_idx % 100 == 0:\n",
    "            print('Train Epoch: {} [{}/{} ({:.0f}%)]\\tLoss: {:.6f}'.format(\n",
    "                epoch, batch_idx * len(x), len(train_loader.dataset),\n",
    "                100. * batch_idx / len(train_loader), loss.item()))"
   ]
  },
  {
   "cell_type": "code",
   "execution_count": 5,
   "metadata": {},
   "outputs": [
    {
     "name": "stdout",
     "output_type": "stream",
     "text": [
      "Train Epoch: 1 [0/60000 (0%)]\tLoss: 49554.390625\n",
      "Train Epoch: 1 [3200/60000 (5%)]\tLoss: 7552.357910\n",
      "Train Epoch: 1 [6400/60000 (11%)]\tLoss: 7064.841797\n",
      "Train Epoch: 1 [9600/60000 (16%)]\tLoss: 6257.918945\n",
      "Train Epoch: 1 [12800/60000 (21%)]\tLoss: 6121.171875\n",
      "Train Epoch: 1 [16000/60000 (27%)]\tLoss: 5467.437500\n",
      "Train Epoch: 1 [19200/60000 (32%)]\tLoss: 5039.067383\n",
      "Train Epoch: 1 [22400/60000 (37%)]\tLoss: 4800.488281\n",
      "Train Epoch: 1 [25600/60000 (43%)]\tLoss: 4728.724609\n",
      "Train Epoch: 1 [28800/60000 (48%)]\tLoss: 4982.400879\n",
      "Train Epoch: 1 [32000/60000 (53%)]\tLoss: 4458.802734\n",
      "Train Epoch: 1 [35200/60000 (59%)]\tLoss: 3909.913818\n",
      "Train Epoch: 1 [38400/60000 (64%)]\tLoss: 3967.508789\n",
      "Train Epoch: 1 [41600/60000 (69%)]\tLoss: 4432.251953\n",
      "Train Epoch: 1 [44800/60000 (75%)]\tLoss: 3889.851562\n",
      "Train Epoch: 1 [48000/60000 (80%)]\tLoss: 4287.070801\n",
      "Train Epoch: 1 [51200/60000 (85%)]\tLoss: 4164.149414\n",
      "Train Epoch: 1 [54400/60000 (91%)]\tLoss: 4154.958496\n",
      "Train Epoch: 1 [57600/60000 (96%)]\tLoss: 4127.891113\n"
     ]
    }
   ],
   "source": [
    "train(model, train_loader, optimizer, 1)"
   ]
  },
  {
   "cell_type": "code",
   "execution_count": 28,
   "metadata": {},
   "outputs": [
    {
     "data": {
      "text/plain": [
       "<matplotlib.image.AxesImage at 0x7fd6d54beef0>"
      ]
     },
     "execution_count": 28,
     "metadata": {},
     "output_type": "execute_result"
    },
    {
     "data": {
      "image/png": "[encoded data removed]",
      "text/plain": [
       "<Figure size 432x288 with 1 Axes>"
      ]
     },
     "metadata": {
      "needs_background": "light"
     },
     "output_type": "display_data"
    }
   ],
   "source": [
    "import matplotlib.pyplot as plt\n",
    "%matplotlib inline\n",
    "\n",
    "plt.imshow(model.decode(torch.randn(1, 20) + 10).view(28, 28).detach())"
   ]
  }
 ],
 "metadata": {
  "kernelspec": {
   "display_name": "Python 3",
   "language": "python",
   "name": "python3"
  },
  "language_info": {
   "codemirror_mode": {
    "name": "ipython",
    "version": 3
   },
   "file_extension": ".py",
   "mimetype": "text/x-python",
   "name": "python",
   "nbconvert_exporter": "python",
   "pygments_lexer": "ipython3",
   "version": "3.7.2"
  }
 },
 "nbformat": 4,
 "nbformat_minor": 2
}
