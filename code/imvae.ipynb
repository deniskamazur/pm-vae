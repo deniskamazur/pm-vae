{
 "cells": [
  {
   "cell_type": "code",
   "execution_count": 1,
   "metadata": {},
   "outputs": [],
   "source": [
    "import torch\n",
    "\n",
    "from torch import nn, optim\n",
    "from torch.nn import functional as F"
   ]
  },
  {
   "cell_type": "code",
   "execution_count": 2,
   "metadata": {},
   "outputs": [],
   "source": [
    "def sample_gumbel(shape, eps=1e-20):\n",
    "    U = torch.rand(shape)\n",
    "    return -torch.log(-torch.log(U + eps) + eps)\n",
    "\n",
    "def gumbel_softmax_sample(logits, temperature):\n",
    "    y = logits + sample_gumbel(logits.size())\n",
    "    return F.softmax(y / temperature, dim=-1)\n",
    "\n",
    "def gumbel_softmax(logits, temperature=0.1):\n",
    "    \"\"\"\n",
    "    input: [*, n_class]\n",
    "    return: [*, n_class] an one-hot vector\n",
    "    \"\"\"\n",
    "    y = gumbel_softmax_sample(logits, temperature)\n",
    "    shape = y.size()\n",
    "    _, ind = y.max(dim=-1)\n",
    "    y_hard = torch.zeros_like(y).view(-1, shape[-1])\n",
    "    y_hard.scatter_(1, ind.view(-1, 1), 1)\n",
    "    y_hard = y_hard.view(*shape)\n",
    "    return (y_hard - y).detach() + y"
   ]
  },
  {
   "cell_type": "code",
   "execution_count": 65,
   "metadata": {},
   "outputs": [],
   "source": [
    "class PMVAE(nn.Module):\n",
    "    def __init__(self, n_approx=5):\n",
    "        super(self.__class__, self).__init__()\n",
    "        self.n_approx = n_approx\n",
    "        \n",
    "        self.encoder = nn.Sequential(\n",
    "            nn.Linear(784, 400),\n",
    "            nn.LeakyReLU(inplace=True),\n",
    "            # (|mu| + |sigma| + |decision|) * num_gaussians\n",
    "            nn.Linear(400, 3 * 20 * n_approx),\n",
    "        )\n",
    "        \n",
    "        self.decoder = nn.Sequential(\n",
    "            nn.Linear(20, 400),\n",
    "            nn.LeakyReLU(inplace=True),\n",
    "            nn.Linear(400, 784),\n",
    "            nn.Sigmoid(),\n",
    "        )        \n",
    "        \n",
    "    def encode(self, x):\n",
    "        batch_size, _ = x.shape\n",
    "        mu, logvar, dec = self.encoder(x).chunk(3, dim=1)\n",
    "        \n",
    "        mu   = mu.view(-1, 20, self.n_approx)\n",
    "        logvar = logvar.view(-1, 20, self.n_approx)\n",
    "        # gumbel softmax over decision matrix rows\n",
    "        dec  = gumbel_softmax(dec.reshape(-1, self.n_approx)).view(-1, 20, self.n_approx)\n",
    "        \n",
    "        # 'choose' one component of every matrix row\n",
    "        return (mu * dec).sum(2), (logvar * dec).sum(2), dec\n",
    "    \n",
    "    def reparameterize(self, mu, logvar):\n",
    "        if self.training:\n",
    "            std = logvar.mul(0.5).exp_()\n",
    "            eps = torch.Tensor.detach(std.data.new(std.size()).normal_())\n",
    "            return eps.mul(std).add_(mu)\n",
    "        else:\n",
    "            return mu\n",
    "        \n",
    "    def decode(self, z):\n",
    "        return self.decoder(z)\n",
    "    \n",
    "    def forward(self, x):\n",
    "        mu, logvar, dec = self.encode(x)\n",
    "        z = self.reparameterize(mu, logvar)\n",
    "        return self.decode(z), mu, logvar, dec"
   ]
  },
  {
   "cell_type": "code",
   "execution_count": 66,
   "metadata": {},
   "outputs": [],
   "source": [
    "from torchvision import datasets, transforms\n",
    "\n",
    "train_loader = torch.utils.data.DataLoader(\n",
    "        datasets.MNIST('../data', train=True, download=True,\n",
    "                       transform=transforms.Compose([\n",
    "                           transforms.ToTensor(),\n",
    "                           transforms.Lambda(lambda x: x.reshape(784)),\n",
    "                       ])),\n",
    "        batch_size=32, shuffle=True)"
   ]
  },
  {
   "cell_type": "code",
   "execution_count": 67,
   "metadata": {},
   "outputs": [],
   "source": [
    "d_mus = torch.zeros(20, 1)\n",
    "d_sigmas = torch.log(torch.ones(20, 1))"
   ]
  },
  {
   "cell_type": "code",
   "execution_count": 68,
   "metadata": {},
   "outputs": [],
   "source": [
    "def kl_div(mu, logsig, m, logs):\n",
    "    return 0.5 * torch.sum((logs - logsig - 1 + (logsig.exp() + (mu - m).pow(2))/logs.exp()))\n",
    "\n",
    "def loss_function(recon_x, x, mu, logvar, dec):\n",
    "    batch_size, _ = mu.shape\n",
    "    \n",
    "    true_mu = (d_mus[None].expand(batch_size, -1, -1) * dec).sum(2)\n",
    "    true_logvar = (d_sigmas[None].expand(batch_size, -1, -1) * dec).sum(2)\n",
    "    \n",
    "    bce = F.binary_cross_entropy(recon_x, x.view(-1, 784), reduction=\"sum\")\n",
    "    kld = kl_div(mu, logvar, true_mu, true_logvar)\n",
    "    \n",
    "    return bce + kld"
   ]
  },
  {
   "cell_type": "code",
   "execution_count": 81,
   "metadata": {},
   "outputs": [],
   "source": [
    "def train(model, train_loader, optimizer, epoch):\n",
    "    model.train()\n",
    "    \n",
    "    for batch_idx, (x, _) in enumerate(train_loader):\n",
    "        optimizer.zero_grad()\n",
    "        \n",
    "        recon_x, mu, logvar, dec = model(x)\n",
    "        \n",
    "        loss = loss_function(recon_x, x, mu, logvar, dec)\n",
    "        loss.backward()\n",
    "        \n",
    "        optimizer.step()\n",
    "        \n",
    "        if batch_idx % 100 == 0:\n",
    "            print('Train Epoch: {} [{}/{} ({:.0f}%)]\\tLoss: {:.6f}'.format(\n",
    "                epoch, batch_idx * len(x), len(train_loader.dataset),\n",
    "                100. * batch_idx / len(train_loader), loss.item()))"
   ]
  },
  {
   "cell_type": "code",
   "execution_count": 82,
   "metadata": {},
   "outputs": [],
   "source": [
    "model = PMVAE(1)\n",
    "optimizer = optim.Adam(model.parameters())"
   ]
  },
  {
   "cell_type": "code",
   "execution_count": 83,
   "metadata": {},
   "outputs": [],
   "source": [
    "x = next(iter(train_loader))[0]"
   ]
  },
  {
   "cell_type": "code",
   "execution_count": 84,
   "metadata": {},
   "outputs": [
    {
     "name": "stdout",
     "output_type": "stream",
     "text": [
      "Train Epoch: 1 [0/60000 (0%)]\tLoss: 17605.625000\n",
      "Train Epoch: 1 [3200/60000 (5%)]\tLoss: 6380.835449\n",
      "Train Epoch: 1 [6400/60000 (11%)]\tLoss: 5320.719727\n",
      "Train Epoch: 1 [9600/60000 (16%)]\tLoss: 5340.050781\n",
      "Train Epoch: 1 [12800/60000 (21%)]\tLoss: 4912.974121\n",
      "Train Epoch: 1 [16000/60000 (27%)]\tLoss: 4627.848145\n",
      "Train Epoch: 1 [19200/60000 (32%)]\tLoss: 3895.419922\n",
      "Train Epoch: 1 [22400/60000 (37%)]\tLoss: 3986.405518\n",
      "Train Epoch: 1 [25600/60000 (43%)]\tLoss: 4098.375000\n",
      "Train Epoch: 1 [28800/60000 (48%)]\tLoss: 4313.699219\n",
      "Train Epoch: 1 [32000/60000 (53%)]\tLoss: 4125.240234\n",
      "Train Epoch: 1 [35200/60000 (59%)]\tLoss: 3960.196289\n",
      "Train Epoch: 1 [38400/60000 (64%)]\tLoss: 4103.369629\n",
      "Train Epoch: 1 [41600/60000 (69%)]\tLoss: 3856.394287\n",
      "Train Epoch: 1 [44800/60000 (75%)]\tLoss: 3720.016357\n",
      "Train Epoch: 1 [48000/60000 (80%)]\tLoss: 3765.504395\n",
      "Train Epoch: 1 [51200/60000 (85%)]\tLoss: 4135.822266\n",
      "Train Epoch: 1 [54400/60000 (91%)]\tLoss: 3893.954346\n",
      "Train Epoch: 1 [57600/60000 (96%)]\tLoss: 4077.738770\n"
     ]
    }
   ],
   "source": [
    "train(model, train_loader, optimizer, 1)"
   ]
  },
  {
   "cell_type": "code",
   "execution_count": 91,
   "metadata": {},
   "outputs": [
    {
     "data": {
      "text/plain": [
       "<matplotlib.image.AxesImage at 0x7f8719dccd30>"
      ]
     },
     "execution_count": 91,
     "metadata": {},
     "output_type": "execute_result"
    },
    {
     "data": {
      "image/png": "[encoded data removed]",
      "text/plain": [
       "<Figure size 432x288 with 1 Axes>"
      ]
     },
     "metadata": {
      "needs_background": "light"
     },
     "output_type": "display_data"
    }
   ],
   "source": [
    "import matplotlib.pyplot as plt\n",
    "%matplotlib inline\n",
    "\n",
    "plt.imshow(model.decode(torch.randn(1, 20)).view(28, 28).detach())"
   ]
  },
  {
   "cell_type": "markdown",
   "metadata": {},
   "source": [
    "$$\\tau \\rho \\iota \\alpha \\delta \\alpha$$"
   ]
  }
 ],
 "metadata": {
  "kernelspec": {
   "display_name": "Python 3",
   "language": "python",
   "name": "python3"
  },
  "language_info": {
   "codemirror_mode": {
    "name": "ipython",
    "version": 3
   },
   "file_extension": ".py",
   "mimetype": "text/x-python",
   "name": "python",
   "nbconvert_exporter": "python",
   "pygments_lexer": "ipython3",
   "version": "3.7.2"
  }
 },
 "nbformat": 4,
 "nbformat_minor": 2
}
